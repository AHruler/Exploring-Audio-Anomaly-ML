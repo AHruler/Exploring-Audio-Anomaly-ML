{
 "cells": [
  {
   "cell_type": "code",
   "execution_count": 18,
   "metadata": {},
   "outputs": [],
   "source": [
    "import pandas as pd\n",
    "from pyAudioProcessing.extract_features import get_features\n",
    "\n",
    "\n"
   ]
  },
  {
   "cell_type": "code",
   "execution_count": 19,
   "metadata": {},
   "outputs": [
    {
     "name": "stdout",
     "output_type": "stream",
     "text": [
      "\n",
      "        \n",
      " Extracting features gfcc, mfcc \n",
      "\n",
      "        \n"
     ]
    },
    {
     "data": {
      "text/plain": "'\\n{\\n  music: {file1_path: {\"features\": <list>, \"feature_names\": <list>}, ...},\\n  speech: {file1_path: {\"features\": <list>, \"feature_names\": <list>}, ...},\\n  ...\\n}\\n'"
     },
     "execution_count": 19,
     "metadata": {},
     "output_type": "execute_result"
    }
   ],
   "source": [
    "# or if you have a dir with  sub-folders and audios\n",
    "features = get_features(folder_path=\"fan/id_00\", feature_names=[\"gfcc\", \"mfcc\"])\n",
    "\n",
    "# features is a dictionary that will hold data of the following format\n",
    "\"\"\"\n",
    "{\n",
    "  music: {file1_path: {\"features\": <list>, \"feature_names\": <list>}, ...},\n",
    "  speech: {file1_path: {\"features\": <list>, \"feature_names\": <list>}, ...},\n",
    "  ...\n",
    "}\n",
    "\"\"\""
   ]
  },
  {
   "cell_type": "code",
   "execution_count": 20,
   "outputs": [
    {
     "name": "stdout",
     "output_type": "stream",
     "text": [
      "Stored 'features' (dict)\n"
     ]
    }
   ],
   "source": [
    "%store features"
   ],
   "metadata": {
    "collapsed": false
   }
  },
  {
   "cell_type": "code",
   "execution_count": 21,
   "outputs": [
    {
     "name": "stdout",
     "output_type": "stream",
     "text": [
      "\n",
      "Results saved in audio_features.json\n",
      "\n"
     ]
    }
   ],
   "source": [
    "from pyAudioProcessing import utils\n",
    "utils.write_to_json(\"audio_features.json\", features)"
   ],
   "metadata": {
    "collapsed": false
   }
  },
  {
   "cell_type": "code",
   "execution_count": 22,
   "outputs": [
    {
     "ename": "FileNotFoundError",
     "evalue": "[Errno 2] No such file or directory: 'fan/id_00/normal/00000400.wav'",
     "output_type": "error",
     "traceback": [
      "\u001B[1;31m---------------------------------------------------------------------------\u001B[0m",
      "\u001B[1;31mFileNotFoundError\u001B[0m                         Traceback (most recent call last)",
      "\u001B[1;32m~\\AppData\\Local\\Temp\\ipykernel_43492\\2367295736.py\u001B[0m in \u001B[0;36m<module>\u001B[1;34m\u001B[0m\n\u001B[0;32m      1\u001B[0m \u001B[1;32mfrom\u001B[0m \u001B[0mpyAudioProcessing\u001B[0m \u001B[1;32mimport\u001B[0m \u001B[0mplot\u001B[0m\u001B[1;33m\u001B[0m\u001B[1;33m\u001B[0m\u001B[0m\n\u001B[0;32m      2\u001B[0m \u001B[1;33m\u001B[0m\u001B[0m\n\u001B[1;32m----> 3\u001B[1;33m plot.spectrogram('fan/id_00/normal/00000400.wav',\n\u001B[0m\u001B[0;32m      4\u001B[0m     \u001B[0mshow\u001B[0m\u001B[1;33m=\u001B[0m\u001B[1;32mTrue\u001B[0m\u001B[1;33m,\u001B[0m\u001B[1;33m\u001B[0m\u001B[1;33m\u001B[0m\u001B[0m\n\u001B[0;32m      5\u001B[0m     )\n",
      "\u001B[1;32m~\\AppData\\Roaming\\Python\\Python39\\site-packages\\pyAudioProcessing\\plot.py\u001B[0m in \u001B[0;36mspectrogram\u001B[1;34m(input_file, show, save_to_disk, output_file)\u001B[0m\n\u001B[0;32m     20\u001B[0m     \u001B[0mPlot\u001B[0m \u001B[0mspctrogram\u001B[0m \u001B[0mof\u001B[0m \u001B[0minput\u001B[0m \u001B[0maudio\u001B[0m \u001B[0msignal\u001B[0m \u001B[1;32mand\u001B[0m \u001B[0msave\u001B[0m \u001B[0mthe\u001B[0m \u001B[0moutput\u001B[0m \u001B[0mto\u001B[0m \u001B[0mdisk\u001B[0m\u001B[1;33m.\u001B[0m\u001B[1;33m\u001B[0m\u001B[1;33m\u001B[0m\u001B[0m\n\u001B[0;32m     21\u001B[0m     \"\"\"\n\u001B[1;32m---> 22\u001B[1;33m     \u001B[0msampling_rate\u001B[0m\u001B[1;33m,\u001B[0m \u001B[0msignal\u001B[0m \u001B[1;33m=\u001B[0m \u001B[0mread_audio\u001B[0m\u001B[1;33m(\u001B[0m\u001B[0minput_file\u001B[0m\u001B[1;33m)\u001B[0m\u001B[1;33m\u001B[0m\u001B[1;33m\u001B[0m\u001B[0m\n\u001B[0m\u001B[0;32m     23\u001B[0m     \u001B[1;31m# Prepare the signal for spectrogram computation\u001B[0m\u001B[1;33m\u001B[0m\u001B[1;33m\u001B[0m\u001B[0m\n\u001B[0;32m     24\u001B[0m     \u001B[1;32mif\u001B[0m \u001B[0mlen\u001B[0m\u001B[1;33m(\u001B[0m\u001B[0msignal\u001B[0m\u001B[1;33m)\u001B[0m \u001B[1;33m>\u001B[0m \u001B[1;36m0\u001B[0m\u001B[1;33m:\u001B[0m\u001B[1;33m\u001B[0m\u001B[1;33m\u001B[0m\u001B[0m\n",
      "\u001B[1;32m~\\AppData\\Roaming\\Python\\Python39\\site-packages\\pyAudioProcessing\\utils.py\u001B[0m in \u001B[0;36mread_audio\u001B[1;34m(input_file)\u001B[0m\n\u001B[0;32m     66\u001B[0m         \u001B[0mextension\u001B[0m \u001B[1;33m=\u001B[0m \u001B[0mos\u001B[0m\u001B[1;33m.\u001B[0m\u001B[0mpath\u001B[0m\u001B[1;33m.\u001B[0m\u001B[0msplitext\u001B[0m\u001B[1;33m(\u001B[0m\u001B[0minput_file\u001B[0m\u001B[1;33m)\u001B[0m\u001B[1;33m[\u001B[0m\u001B[1;36m1\u001B[0m\u001B[1;33m]\u001B[0m\u001B[1;33m.\u001B[0m\u001B[0mlower\u001B[0m\u001B[1;33m(\u001B[0m\u001B[1;33m)\u001B[0m\u001B[1;33m\u001B[0m\u001B[1;33m\u001B[0m\u001B[0m\n\u001B[0;32m     67\u001B[0m         \u001B[1;32mif\u001B[0m \u001B[0mextension\u001B[0m \u001B[1;33m==\u001B[0m \u001B[1;34m\".wav\"\u001B[0m\u001B[1;33m:\u001B[0m\u001B[1;33m\u001B[0m\u001B[1;33m\u001B[0m\u001B[0m\n\u001B[1;32m---> 68\u001B[1;33m             \u001B[0msampling_rate\u001B[0m\u001B[1;33m,\u001B[0m \u001B[0msignal\u001B[0m \u001B[1;33m=\u001B[0m \u001B[0mwavfile\u001B[0m\u001B[1;33m.\u001B[0m\u001B[0mread\u001B[0m\u001B[1;33m(\u001B[0m\u001B[0minput_file\u001B[0m\u001B[1;33m)\u001B[0m\u001B[1;33m\u001B[0m\u001B[1;33m\u001B[0m\u001B[0m\n\u001B[0m\u001B[0;32m     69\u001B[0m         \u001B[1;32melse\u001B[0m\u001B[1;33m:\u001B[0m\u001B[1;33m\u001B[0m\u001B[1;33m\u001B[0m\u001B[0m\n\u001B[0;32m     70\u001B[0m             \u001B[1;32mtry\u001B[0m\u001B[1;33m:\u001B[0m\u001B[1;33m\u001B[0m\u001B[1;33m\u001B[0m\u001B[0m\n",
      "\u001B[1;32m~\\AppData\\Roaming\\Python\\Python39\\site-packages\\scipy\\io\\wavfile.py\u001B[0m in \u001B[0;36mread\u001B[1;34m(filename, mmap)\u001B[0m\n\u001B[0;32m    542\u001B[0m         \u001B[0mmmap\u001B[0m \u001B[1;33m=\u001B[0m \u001B[1;32mFalse\u001B[0m\u001B[1;33m\u001B[0m\u001B[1;33m\u001B[0m\u001B[0m\n\u001B[0;32m    543\u001B[0m     \u001B[1;32melse\u001B[0m\u001B[1;33m:\u001B[0m\u001B[1;33m\u001B[0m\u001B[1;33m\u001B[0m\u001B[0m\n\u001B[1;32m--> 544\u001B[1;33m         \u001B[0mfid\u001B[0m \u001B[1;33m=\u001B[0m \u001B[0mopen\u001B[0m\u001B[1;33m(\u001B[0m\u001B[0mfilename\u001B[0m\u001B[1;33m,\u001B[0m \u001B[1;34m'rb'\u001B[0m\u001B[1;33m)\u001B[0m\u001B[1;33m\u001B[0m\u001B[1;33m\u001B[0m\u001B[0m\n\u001B[0m\u001B[0;32m    545\u001B[0m \u001B[1;33m\u001B[0m\u001B[0m\n\u001B[0;32m    546\u001B[0m     \u001B[1;32mtry\u001B[0m\u001B[1;33m:\u001B[0m\u001B[1;33m\u001B[0m\u001B[1;33m\u001B[0m\u001B[0m\n",
      "\u001B[1;31mFileNotFoundError\u001B[0m: [Errno 2] No such file or directory: 'fan/id_00/normal/00000400.wav'"
     ]
    }
   ],
   "source": [
    "from pyAudioProcessing import plot\n",
    "\n",
    "plot.spectrogram('fan/id_00/normal/00000400.wav',\n",
    "    show=True,\n",
    "    )"
   ],
   "metadata": {
    "collapsed": false
   }
  },
  {
   "cell_type": "code",
   "execution_count": null,
   "outputs": [],
   "source": [
    "plot.spectrogram('fan/id_00/abnormal/00000001.wav',\n",
    "                 show=True,\n",
    "                 )"
   ],
   "metadata": {
    "collapsed": false
   }
  },
  {
   "cell_type": "code",
   "execution_count": null,
   "outputs": [],
   "source": [
    "import os\n",
    "import pathlib\n",
    "import time\n",
    "\n",
    "import numpy as np\n",
    "import pydub\n",
    "import librosa\n"
   ],
   "metadata": {
    "collapsed": false
   }
  },
  {
   "cell_type": "code",
   "execution_count": null,
   "outputs": [],
   "source": [
    "def load_data(machine, Data = 'normal', base_dir = 'data/', id = [0, 2, 4, 6]):\n",
    "    '''\n",
    "     Find the audio directory\n",
    "     Inputs:\n",
    "     machine: Name of the machine (valve/slider/fan/pump)\n",
    "     id: ID of the machine (0,2,4,6)\n",
    "     base_dir = Base directory of the dataset\n",
    "\n",
    "     Outputs:\n",
    "     dir = List of data adresses\n",
    "     label = List of labels (0 -> normal, 1 -> abnormal)\n",
    "     '''\n",
    "\n",
    "\n",
    "    dir = []\n",
    "    label = []\n",
    "\n",
    "    for id in id:\n",
    "        normaldir = base_dir + machine + '/id_' + str(format(id,'02d')) + '/normal'\n",
    "        abnormaldir = base_dir + machine + '/id_' + str(format(id,'02d')) + '/abnormal'\n",
    "        if Data == 'normal':\n",
    "            list = os.listdir(normaldir)\n",
    "            for i in list:\n",
    "                dir_address = normaldir + '/' + i\n",
    "                dir.append(dir_address)\n",
    "                label.append(0)\n",
    "\n",
    "        else:\n",
    "            list = os.listdir(abnormaldir)\n",
    "            for i in list:\n",
    "                dir_address = abnormaldir + '/' + i\n",
    "                dir.append(dir_address)\n",
    "                label.append(1)\n",
    "\n",
    "    return dir,label\n"
   ],
   "metadata": {
    "collapsed": false
   }
  },
  {
   "cell_type": "code",
   "execution_count": null,
   "outputs": [],
   "source": [
    "import pandas as pd\n",
    "device='fan'\n",
    "dir,label = load_data(device)\n",
    "\n",
    "dir_abnormal,label_abnormal = load_data(device, Data='abnormal')\n",
    "\n",
    "\n",
    "f1 = {'filename': (dir_abnormal + dir), 'label': (label_abnormal + label)}\n",
    "df = pd.DataFrame(f1)\n",
    "df"
   ],
   "metadata": {
    "collapsed": false
   }
  },
  {
   "cell_type": "code",
   "execution_count": null,
   "outputs": [],
   "source": [
    "%matplotlib inline\n",
    "import matplotlib\n",
    "import matplotlib.pyplot as plt\n",
    "\n",
    "import seaborn as sb\n",
    "sb.set(style=\"white\", palette=\"muted\")\n"
   ],
   "metadata": {
    "collapsed": false
   }
  },
  {
   "cell_type": "code",
   "execution_count": null,
   "outputs": [],
   "source": [
    "import random\n",
    "random.seed(20150420)"
   ],
   "metadata": {
    "collapsed": false
   }
  },
  {
   "cell_type": "code",
   "execution_count": null,
   "outputs": [],
   "source": [
    "def mfcc_extract(filename):\n",
    "\n",
    "    y, sr  = librosa.load(filename, sr = 16000)\n",
    "    mfcc = librosa.feature.mfcc(y=y, sr=sr, n_mfcc=13, n_fft=2048, hop_length=512)\n",
    "    return mfcc\n",
    "\n",
    "\n",
    "df['mfcc']=df['filename'].apply(lambda x: mfcc_extract(x))"
   ],
   "metadata": {
    "collapsed": false
   }
  },
  {
   "cell_type": "code",
   "execution_count": 27,
   "outputs": [
    {
     "data": {
      "text/plain": "1475    [[-414.19162, -386.78836, -387.35043, -385.105...\n1476    [[-411.87857, -380.4433, -381.9435, -382.5251,...\n1477    [[-398.79056, -369.15686, -373.98843, -374.572...\n1478    [[-414.07602, -386.88446, -374.26672, -370.234...\n1479    [[-419.86975, -400.00827, -400.94128, -396.505...\n                              ...                        \n5545    [[-384.33212, -357.8918, -361.90228, -359.018,...\n5546    [[-392.96362, -376.03708, -382.9918, -380.2387...\n5547    [[-381.95618, -360.62756, -356.97162, -359.652...\n5548    [[-385.02023, -356.66458, -355.73117, -354.867...\n5549    [[-385.66666, -357.8429, -358.15588, -363.7211...\nName: mfcc, Length: 4075, dtype: object"
     },
     "execution_count": 27,
     "metadata": {},
     "output_type": "execute_result"
    }
   ],
   "source": [
    "df[df['label'] == 0]['mfcc']"
   ],
   "metadata": {
    "collapsed": false
   }
  },
  {
   "cell_type": "code",
   "execution_count": 28,
   "outputs": [
    {
     "data": {
      "text/plain": "<Figure size 640x480 with 1 Axes>",
      "image/png": "[encoded data removed]"
     },
     "metadata": {},
     "output_type": "display_data"
    }
   ],
   "source": [
    "\n",
    "\n",
    "from matplotlib import cm\n",
    "\n",
    "fig, ax = plt.subplots()\n",
    "mfcc_data= np.swapaxes(df[df['label'] == 0]['mfcc'][1476], 0, 1)\n",
    "cax = ax.imshow(mfcc_data, interpolation='nearest', cmap=cm.coolwarm, origin='lower')\n",
    "ax.set_title('MFCC')\n",
    "\n",
    "plt.show()"
   ],
   "metadata": {
    "collapsed": false
   }
  },
  {
   "cell_type": "code",
   "execution_count": null,
   "outputs": [],
   "source": [],
   "metadata": {
    "collapsed": false
   }
  }
 ],
 "metadata": {
  "kernelspec": {
   "display_name": "Python 3 (ipykernel)",
   "language": "python",
   "name": "python3"
  },
  "language_info": {
   "codemirror_mode": {
    "name": "ipython",
    "version": 3
   },
   "file_extension": ".py",
   "mimetype": "text/x-python",
   "name": "python",
   "nbconvert_exporter": "python",
   "pygments_lexer": "ipython3",
   "version": "3.9.13"
  }
 },
 "nbformat": 4,
 "nbformat_minor": 1
}
