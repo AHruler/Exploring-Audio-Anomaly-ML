{
 "cells": [
  {
   "cell_type": "code",
   "execution_count": 11,
   "metadata": {
    "collapsed": true
   },
   "outputs": [],
   "source": [
    "import numpy as np\n",
    "import torch\n",
    "import torchaudio\n",
    "from torch import nn\n",
    "from torch.nn import functional as F\n",
    "from torch import Tensor\n",
    "from typing import Type, Any, Callable, Union, List, Optional\n",
    "import os\n",
    "from torch.utils.data import Dataset\n",
    "from torch.utils.data import DataLoader,ConcatDataset\n",
    "import pandas as pd\n",
    "import matplotlib.pyplot as plt\n",
    "import seaborn as sns\n",
    "import scipy.signal as signal\n",
    "import librosa\n",
    "import librosa.display\n",
    "from scipy.io import wavfile\n",
    "from IPython.display import Audio\n",
    "from pytorch_metric_learning import losses\n",
    "from data.data_loader import audiodir,MIMII"
   ]
  },
  {
   "cell_type": "code",
   "execution_count": 12,
   "outputs": [],
   "source": [
    "import scipy\n",
    "device=torch.device(\"cuda\" if torch.cuda.is_available() else \"cpu\")\n"
   ],
   "metadata": {
    "collapsed": false
   }
  },
  {
   "cell_type": "markdown",
   "source": [
    "# Train test split"
   ],
   "metadata": {
    "collapsed": false
   }
  },
  {
   "cell_type": "code",
   "execution_count": 13,
   "outputs": [],
   "source": [
    "def train_test(train_size,device='fan',id=0):\n",
    "\n",
    "    # function to label + split audio data\n",
    "\n",
    "    dir,label = audiodir(device,id)\n",
    "    dir_abnormal,label_abnormal = audiodir(device,id,Data='abnormal', base_dir='/data/')\n",
    "\n",
    "    dataset_normal = MIMII(dir,label)\n",
    "    dataset_abnormal = MIMII(dir_abnormal,label_abnormal)\n",
    "    train_dataset, test_normal_dataset = torch.utils.data.random_split(dataset_normal, [int(len(dataset_normal)*train_size), len(dataset_normal)- int(len(dataset_normal)*train_size)])\n",
    "\n",
    "    test_dataset = ConcatDataset([test_normal_dataset, dataset_abnormal])\n",
    "\n",
    "    Train = torch.utils.data.DataLoader(train_dataset, batch_size=128, shuffle=True,num_workers=4,drop_last=True)\n",
    "    Test = torch.utils.data.DataLoader(test_dataset, batch_size=300, shuffle=True,num_workers=4)\n",
    "    return Train,Test"
   ],
   "metadata": {
    "collapsed": false
   }
  },
  {
   "cell_type": "code",
   "execution_count": 14,
   "outputs": [
    {
     "ename": "FileNotFoundError",
     "evalue": "[WinError 3] The system cannot find the path specified: '/content/fan/id_00/normal'",
     "output_type": "error",
     "traceback": [
      "\u001B[1;31m---------------------------------------------------------------------------\u001B[0m",
      "\u001B[1;31mFileNotFoundError\u001B[0m                         Traceback (most recent call last)",
      "\u001B[1;32m~\\AppData\\Local\\Temp\\ipykernel_31500\\2423953469.py\u001B[0m in \u001B[0;36m<module>\u001B[1;34m\u001B[0m\n\u001B[1;32m----> 1\u001B[1;33m \u001B[0mTrain\u001B[0m\u001B[1;33m,\u001B[0m\u001B[0mTest\u001B[0m \u001B[1;33m=\u001B[0m \u001B[0mtrain_test\u001B[0m\u001B[1;33m(\u001B[0m\u001B[1;36m0.75\u001B[0m\u001B[1;33m,\u001B[0m\u001B[0mdevice\u001B[0m\u001B[1;33m=\u001B[0m\u001B[1;34m'fan'\u001B[0m\u001B[1;33m,\u001B[0m\u001B[0mid\u001B[0m\u001B[1;33m=\u001B[0m\u001B[1;36m0\u001B[0m\u001B[1;33m)\u001B[0m\u001B[1;33m\u001B[0m\u001B[1;33m\u001B[0m\u001B[0m\n\u001B[0m",
      "\u001B[1;32m~\\AppData\\Local\\Temp\\ipykernel_31500\\2392535920.py\u001B[0m in \u001B[0;36mtrain_test\u001B[1;34m(train_size, device, id)\u001B[0m\n\u001B[0;32m      3\u001B[0m     \u001B[1;31m# function to label + split audio data\u001B[0m\u001B[1;33m\u001B[0m\u001B[1;33m\u001B[0m\u001B[0m\n\u001B[0;32m      4\u001B[0m \u001B[1;33m\u001B[0m\u001B[0m\n\u001B[1;32m----> 5\u001B[1;33m     \u001B[0mdir\u001B[0m\u001B[1;33m,\u001B[0m\u001B[0mlabel\u001B[0m \u001B[1;33m=\u001B[0m \u001B[0maudiodir\u001B[0m\u001B[1;33m(\u001B[0m\u001B[0mdevice\u001B[0m\u001B[1;33m,\u001B[0m\u001B[0mid\u001B[0m\u001B[1;33m)\u001B[0m\u001B[1;33m\u001B[0m\u001B[1;33m\u001B[0m\u001B[0m\n\u001B[0m\u001B[0;32m      6\u001B[0m     \u001B[0mdir_abnormal\u001B[0m\u001B[1;33m,\u001B[0m\u001B[0mlabel_abnormal\u001B[0m \u001B[1;33m=\u001B[0m \u001B[0maudiodir\u001B[0m\u001B[1;33m(\u001B[0m\u001B[0mdevice\u001B[0m\u001B[1;33m,\u001B[0m\u001B[0mid\u001B[0m\u001B[1;33m,\u001B[0m\u001B[0mData\u001B[0m\u001B[1;33m=\u001B[0m\u001B[1;34m'abnormal'\u001B[0m\u001B[1;33m,\u001B[0m \u001B[0mbase_dir\u001B[0m\u001B[1;33m=\u001B[0m\u001B[1;34m'/data/'\u001B[0m\u001B[1;33m)\u001B[0m\u001B[1;33m\u001B[0m\u001B[1;33m\u001B[0m\u001B[0m\n\u001B[0;32m      7\u001B[0m \u001B[1;33m\u001B[0m\u001B[0m\n",
      "\u001B[1;32m~\\Documents\\Exploring-Audio-Anomaly-ML\\data\\data_loader.py\u001B[0m in \u001B[0;36maudiodir\u001B[1;34m(machine, id, Data, base_dir)\u001B[0m\n\u001B[0;32m     39\u001B[0m     \u001B[0mlabel\u001B[0m \u001B[1;33m=\u001B[0m \u001B[1;33m[\u001B[0m\u001B[1;33m]\u001B[0m\u001B[1;33m\u001B[0m\u001B[1;33m\u001B[0m\u001B[0m\n\u001B[0;32m     40\u001B[0m     \u001B[1;32mif\u001B[0m \u001B[0mData\u001B[0m \u001B[1;33m==\u001B[0m \u001B[1;34m'normal'\u001B[0m\u001B[1;33m:\u001B[0m\u001B[1;33m\u001B[0m\u001B[1;33m\u001B[0m\u001B[0m\n\u001B[1;32m---> 41\u001B[1;33m         \u001B[0mlist\u001B[0m \u001B[1;33m=\u001B[0m \u001B[0mos\u001B[0m\u001B[1;33m.\u001B[0m\u001B[0mlistdir\u001B[0m\u001B[1;33m(\u001B[0m\u001B[0mnormaldir\u001B[0m\u001B[1;33m)\u001B[0m\u001B[1;33m\u001B[0m\u001B[1;33m\u001B[0m\u001B[0m\n\u001B[0m\u001B[0;32m     42\u001B[0m         \u001B[1;32mfor\u001B[0m \u001B[0mi\u001B[0m \u001B[1;32min\u001B[0m \u001B[0mlist\u001B[0m\u001B[1;33m:\u001B[0m\u001B[1;33m\u001B[0m\u001B[1;33m\u001B[0m\u001B[0m\n\u001B[0;32m     43\u001B[0m             \u001B[0mdir_address\u001B[0m \u001B[1;33m=\u001B[0m \u001B[0mnormaldir\u001B[0m \u001B[1;33m+\u001B[0m \u001B[1;34m'/'\u001B[0m \u001B[1;33m+\u001B[0m \u001B[0mi\u001B[0m\u001B[1;33m\u001B[0m\u001B[1;33m\u001B[0m\u001B[0m\n",
      "\u001B[1;31mFileNotFoundError\u001B[0m: [WinError 3] The system cannot find the path specified: '/content/fan/id_00/normal'"
     ]
    }
   ],
   "source": [
    "Train,Test = train_test(0.75,device='fan',id=0)"
   ],
   "metadata": {
    "collapsed": false
   }
  },
  {
   "cell_type": "code",
   "execution_count": null,
   "outputs": [],
   "source": [],
   "metadata": {
    "collapsed": false
   }
  }
 ],
 "metadata": {
  "kernelspec": {
   "display_name": "Python 3",
   "language": "python",
   "name": "python3"
  },
  "language_info": {
   "codemirror_mode": {
    "name": "ipython",
    "version": 2
   },
   "file_extension": ".py",
   "mimetype": "text/x-python",
   "name": "python",
   "nbconvert_exporter": "python",
   "pygments_lexer": "ipython2",
   "version": "2.7.6"
  }
 },
 "nbformat": 4,
 "nbformat_minor": 0
}
