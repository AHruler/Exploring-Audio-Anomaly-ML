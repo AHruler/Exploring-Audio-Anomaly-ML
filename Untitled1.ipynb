{
 "cells": [
  {
   "cell_type": "code",
   "execution_count": null,
   "id": "7416463f-ab39-4d17-a30d-969f4b35863e",
   "metadata": {},
   "outputs": [],
   "source": [
    "import numpy as np\n",
    "import pandas as pd\n",
    "import torch\n",
    "import torchaudio\n",
    "import matplotlib.pyplot as plt\n",
    "from sklearn.model_selection import KFold\n",
    "from sklearn.svm import SVC\n",
    "from sklearn.ensemble import IsolationForest\n",
    "from sklearn.neighbors import KNeighborsClassifier\n",
    "from sklearn.preprocessing import MinMaxScaler\n",
    "from sklearn.metrics import accuracy_score\n",
    "\n",
    "def load_audio(filenames):\n",
    "    audio_data = []\n",
    "    for filename in filenames:\n",
    "        waveform, sample_rate = torchaudio.load(filename)\n",
    "        audio_data.append(waveform[0, :].numpy())\n",
    "    return np.array(audio_data)\n",
    "\n",
    "def filter_data(data, method='Kalman'):\n",
    "    if method == 'Kalman':\n",
    "        pass\n",
    "    elif method == 'Bayes':\n",
    "        pass\n",
    "    else:\n",
    "        raise ValueError('Invalid filter method')\n",
    "    return filtered_data\n",
    "\n",
    "def extract_features(data):\n",
    "    features = []\n",
    "    for i in range(data.shape[0]):\n",
    "        # Extract cepstral features (MFCC and GFCC)\n",
    "        mfcc = None\n",
    "        gfcc = None\n",
    "\n",
    "        # Extract time-frequency features (three popular ones)\n",
    "        t_f_feature1 = None\n",
    "        t_f_feature2 = None\n",
    "        t_f_feature3 = None\n",
    "\n",
    "        # Combine cepstral and time-frequency features\n",
    "        combined_features = np.concatenate((mfcc, gfcc, t_f_feature1, t_f_feature2, t_f_feature3), axis=1)\n",
    "        features.append(combined_features)\n",
    "    return np.array(features)\n",
    "\n",
    "def classify_anomalies(features, anomalies, method='SVM'):\n",
    "    if method == 'SVM':\n",
    "        classifier = SVC()\n",
    "    elif method == 'Isolation Forest':\n",
    "        classifier = IsolationForest()\n",
    "    elif method == 'KNN':\n",
    "        classifier = KNeighborsClassifier()\n",
    "    else:\n",
    "        raise ValueError('Invalid classification method')\n",
    "\n",
    "    kf = KFold(n_splits=5)\n",
    "    accuracy_scores = []\n",
    "    for train_index, test_index in kf.split(features):\n",
    "        X_train, X_test = features[train_index], features[test_index]\n",
    "        y_train, y_test = anomalies[train_index], anomalies[test_index]\n",
    "        classifier.fit(X_train, y_train)\n",
    "        y_pred = classifier.predict(X_test)\n",
    "        accuracy_scores.append(accuracy_score(y_test, y_pred))\n",
    "    return np.mean(accuracy_scores)\n",
    "\n",
    "def main():\n",
    "    # Load data\n",
    "    machine_ID, filenames, anomalies =\n"
   ]
  },
  {
   "cell_type": "code",
   "execution_count": null,
   "id": "1df4338a-2044-48cb-95ce-3dca106a4e21",
   "metadata": {},
   "outputs": [],
   "source": [
    "import numpy as np\n",
    "\n",
    "def kalman_filter(signal, process_variance, measurement_variance):\n",
    "    n_iter = len(signal)\n",
    "    sz = (n_iter,)\n",
    "    xhat = np.zeros(sz)  # a posteri estimate of x\n",
    "    P = np.zeros(sz)  # a posteri error estimate\n",
    "    xhatminus = np.zeros(sz)  # a priori estimate of x\n",
    "    Pminus = np.zeros(sz)  # a priori error estimate\n",
    "    K = np.zeros(sz)  # gain or blending factor\n",
    "\n",
    "    # intial guesses\n",
    "    xhat[0] = signal[0]\n",
    "    P[0] = 1.0\n",
    "\n",
    "    for k in range(1, n_iter):\n",
    "        # time update\n",
    "        xhatminus[k] = xhat[k-1]\n",
    "        Pminus[k] = P[k-1]+process_variance\n",
    "\n",
    "        # measurement update\n",
    "        K[k] = Pminus[k]/(Pminus[k]+measurement_variance)\n",
    "        xhat[k] = xhatminus[k]+K[k]*(signal[k]-xhatminus[k])\n",
    "        P[k] = (1-K[k])*Pminus[k]\n",
    "\n",
    "    return xhat"
   ]
  },
  {
   "cell_type": "code",
   "execution_count": 1,
   "outputs": [
    {
     "name": "stderr",
     "output_type": "stream",
     "text": [
      "C:\\Users\\AHUSSEI9\\Anaconda3\\lib\\site-packages\\paramiko\\transport.py:219: CryptographyDeprecationWarning: Blowfish has been deprecated\n",
      "  \"class\": algorithms.Blowfish,\n"
     ]
    }
   ],
   "source": [
    "import numpy as np\n",
    "import pandas as pd\n",
    "import torch\n",
    "import torchaudio\n",
    "import librosa\n"
   ],
   "metadata": {
    "collapsed": false
   }
  },
  {
   "cell_type": "code",
   "execution_count": 2,
   "outputs": [],
   "source": [
    "import scipy, matplotlib.pyplot as plt, librosa, IPython.display, urllib\n",
    "import torch\n",
    "import torchaudio\n",
    "import torchaudio.transforms as transforms\n",
    "import torchaudio.functional as F\n",
    "from sklearn.decomposition import PCA\n",
    "import numpy as np\n",
    "import pandas as pd\n",
    "from sklearn.model_selection import KFold, cross_val_score\n",
    "from sklearn.preprocessing import StandardScaler\n",
    "from sklearn.svm import SVC\n",
    "from sklearn.cluster import KMeans\n",
    "from sklearn.ensemble import IsolationForest\n",
    "from sklearn.neighbors import KNeighborsClassifier\n",
    "from sklearn.pipeline import Pipeline\n",
    "import glob\n",
    "import seaborn as sns\n",
    "\n",
    "plt.rcParams['figure.figsize'] = (14, 4)\n",
    "### Segment audio files\n",
    "# Load audio files\n"
   ],
   "metadata": {
    "collapsed": false
   }
  },
  {
   "cell_type": "code",
   "execution_count": 3,
   "outputs": [
    {
     "name": "stdout",
     "output_type": "stream",
     "text": [
      "['data/faults\\\\bad-ball-joint-1.mp3', 'data/faults\\\\brake-pad.mp3', 'data/faults\\\\car-stopping-metal-to-metal.mp3', 'data/faults\\\\engine-moving-failing-tranny.mp3', 'data/faults\\\\engine-running-without-oil.mp3', 'data/faults\\\\engine-seizing-up.mp3', 'data/faults\\\\failing-water-pump.mp3', 'data/faults\\\\hole-in-muffler.mp3', 'data/faults\\\\obstruction-of-heater-fan.mp3', 'data/faults\\\\start-up-car-bad-exhaust.mp3', 'data/faults\\\\worn-out-break-pad.mp3', 'data/faults\\\\worn-out-serpintine-belt.mp3']\n"
     ]
    }
   ],
   "source": [
    "# All files and directories ending with .wav\n",
    "filenames = glob.glob(\"data/faults/*.mp3\")\n",
    "print(filenames)"
   ],
   "metadata": {
    "collapsed": false
   }
  },
  {
   "cell_type": "code",
   "execution_count": 4,
   "outputs": [
    {
     "name": "stdout",
     "output_type": "stream",
     "text": [
      "['data/test_car\\\\Blinkers-hela.m4a', 'data/test_car\\\\Blinkers-kort.m4a', 'data/test_car\\\\Chit-chat.m4a', 'data/test_car\\\\Normal 40-50.m4a', 'data/test_car\\\\Normal 40-70.m4a', 'data/test_car\\\\Normal 60.m4a', 'data/test_car\\\\Vindrutetorkare.m4a']\n"
     ]
    }
   ],
   "source": [
    "filenames_m4 = glob.glob(\"data/test_car/*.m4a\")\n",
    "print(filenames_m4)"
   ],
   "metadata": {
    "collapsed": false
   }
  },
  {
   "cell_type": "code",
   "execution_count": 5,
   "outputs": [],
   "source": [
    "def load_audio(filename):\n",
    "    waveform, sample_rate = torchaudio.load(filename, normalize=True)\n",
    "    return waveform, sample_rate"
   ],
   "metadata": {
    "collapsed": false
   }
  },
  {
   "cell_type": "code",
   "execution_count": 6,
   "outputs": [],
   "source": [
    "def segment_audio(waveform, sample_rate, segment_length=1):\n",
    "    # Convert to numpy array\n",
    "    waveform = waveform[0, :].numpy()\n",
    "    # Segment audio\n",
    "    segments = []\n",
    "    for i in range(0, len(waveform), sample_rate*segment_length):\n",
    "        segments.append(waveform[i:i+sample_rate*segment_length])\n",
    "    return np.array(segments)\n"
   ],
   "metadata": {
    "collapsed": false
   }
  },
  {
   "cell_type": "code",
   "execution_count": 7,
   "outputs": [
    {
     "ename": "LibsndfileError",
     "evalue": "Error opening 'data/faults\\\\bad-ball-joint-1.mp3': Format not recognised.",
     "output_type": "error",
     "traceback": [
      "\u001B[1;31m---------------------------------------------------------------------------\u001B[0m",
      "\u001B[1;31mLibsndfileError\u001B[0m                           Traceback (most recent call last)",
      "\u001B[1;32m~\\AppData\\Local\\Temp\\ipykernel_6560\\521625181.py\u001B[0m in \u001B[0;36m<module>\u001B[1;34m\u001B[0m\n\u001B[1;32m----> 1\u001B[1;33m \u001B[0mload_audio\u001B[0m\u001B[1;33m(\u001B[0m\u001B[0mfilenames\u001B[0m\u001B[1;33m[\u001B[0m\u001B[1;36m0\u001B[0m\u001B[1;33m]\u001B[0m\u001B[1;33m)\u001B[0m\u001B[1;33m\u001B[0m\u001B[1;33m\u001B[0m\u001B[0m\n\u001B[0m",
      "\u001B[1;32m~\\AppData\\Local\\Temp\\ipykernel_6560\\4050464906.py\u001B[0m in \u001B[0;36mload_audio\u001B[1;34m(filename)\u001B[0m\n\u001B[0;32m      1\u001B[0m \u001B[1;32mdef\u001B[0m \u001B[0mload_audio\u001B[0m\u001B[1;33m(\u001B[0m\u001B[0mfilename\u001B[0m\u001B[1;33m)\u001B[0m\u001B[1;33m:\u001B[0m\u001B[1;33m\u001B[0m\u001B[1;33m\u001B[0m\u001B[0m\n\u001B[1;32m----> 2\u001B[1;33m     \u001B[0mwaveform\u001B[0m\u001B[1;33m,\u001B[0m \u001B[0msample_rate\u001B[0m \u001B[1;33m=\u001B[0m \u001B[0mtorchaudio\u001B[0m\u001B[1;33m.\u001B[0m\u001B[0mload\u001B[0m\u001B[1;33m(\u001B[0m\u001B[0mfilename\u001B[0m\u001B[1;33m,\u001B[0m \u001B[0mnormalize\u001B[0m\u001B[1;33m=\u001B[0m\u001B[1;32mTrue\u001B[0m\u001B[1;33m)\u001B[0m\u001B[1;33m\u001B[0m\u001B[1;33m\u001B[0m\u001B[0m\n\u001B[0m\u001B[0;32m      3\u001B[0m     \u001B[1;32mreturn\u001B[0m \u001B[0mwaveform\u001B[0m\u001B[1;33m,\u001B[0m \u001B[0msample_rate\u001B[0m\u001B[1;33m\u001B[0m\u001B[1;33m\u001B[0m\u001B[0m\n",
      "\u001B[1;32m~\\Anaconda3\\lib\\site-packages\\torchaudio\\backend\\soundfile_backend.py\u001B[0m in \u001B[0;36mload\u001B[1;34m(filepath, frame_offset, num_frames, normalize, channels_first, format)\u001B[0m\n\u001B[0;32m    203\u001B[0m             \u001B[0;31m`\u001B[0m\u001B[1;33m[\u001B[0m\u001B[0mchannel\u001B[0m\u001B[1;33m,\u001B[0m \u001B[0mtime\u001B[0m\u001B[1;33m]\u001B[0m\u001B[0;31m`\u001B[0m \u001B[1;32melse\u001B[0m\u001B[0;31m \u001B[0m\u001B[0;31m`\u001B[0m\u001B[1;33m[\u001B[0m\u001B[0mtime\u001B[0m\u001B[1;33m,\u001B[0m \u001B[0mchannel\u001B[0m\u001B[1;33m]\u001B[0m\u001B[0;31m`\u001B[0m\u001B[1;33m.\u001B[0m\u001B[1;33m\u001B[0m\u001B[1;33m\u001B[0m\u001B[0m\n\u001B[0;32m    204\u001B[0m     \"\"\"\n\u001B[1;32m--> 205\u001B[1;33m     \u001B[1;32mwith\u001B[0m \u001B[0msoundfile\u001B[0m\u001B[1;33m.\u001B[0m\u001B[0mSoundFile\u001B[0m\u001B[1;33m(\u001B[0m\u001B[0mfilepath\u001B[0m\u001B[1;33m,\u001B[0m \u001B[1;34m\"r\"\u001B[0m\u001B[1;33m)\u001B[0m \u001B[1;32mas\u001B[0m \u001B[0mfile_\u001B[0m\u001B[1;33m:\u001B[0m\u001B[1;33m\u001B[0m\u001B[1;33m\u001B[0m\u001B[0m\n\u001B[0m\u001B[0;32m    206\u001B[0m         \u001B[1;32mif\u001B[0m \u001B[0mfile_\u001B[0m\u001B[1;33m.\u001B[0m\u001B[0mformat\u001B[0m \u001B[1;33m!=\u001B[0m \u001B[1;34m\"WAV\"\u001B[0m \u001B[1;32mor\u001B[0m \u001B[0mnormalize\u001B[0m\u001B[1;33m:\u001B[0m\u001B[1;33m\u001B[0m\u001B[1;33m\u001B[0m\u001B[0m\n\u001B[0;32m    207\u001B[0m             \u001B[0mdtype\u001B[0m \u001B[1;33m=\u001B[0m \u001B[1;34m\"float32\"\u001B[0m\u001B[1;33m\u001B[0m\u001B[1;33m\u001B[0m\u001B[0m\n",
      "\u001B[1;32m~\\Anaconda3\\lib\\site-packages\\soundfile.py\u001B[0m in \u001B[0;36m__init__\u001B[1;34m(self, file, mode, samplerate, channels, subtype, endian, format, closefd)\u001B[0m\n\u001B[0;32m    653\u001B[0m         self._info = _create_info_struct(file, mode, samplerate, channels,\n\u001B[0;32m    654\u001B[0m                                          format, subtype, endian)\n\u001B[1;32m--> 655\u001B[1;33m         \u001B[0mself\u001B[0m\u001B[1;33m.\u001B[0m\u001B[0m_file\u001B[0m \u001B[1;33m=\u001B[0m \u001B[0mself\u001B[0m\u001B[1;33m.\u001B[0m\u001B[0m_open\u001B[0m\u001B[1;33m(\u001B[0m\u001B[0mfile\u001B[0m\u001B[1;33m,\u001B[0m \u001B[0mmode_int\u001B[0m\u001B[1;33m,\u001B[0m \u001B[0mclosefd\u001B[0m\u001B[1;33m)\u001B[0m\u001B[1;33m\u001B[0m\u001B[1;33m\u001B[0m\u001B[0m\n\u001B[0m\u001B[0;32m    656\u001B[0m         \u001B[1;32mif\u001B[0m \u001B[0mset\u001B[0m\u001B[1;33m(\u001B[0m\u001B[0mmode\u001B[0m\u001B[1;33m)\u001B[0m\u001B[1;33m.\u001B[0m\u001B[0missuperset\u001B[0m\u001B[1;33m(\u001B[0m\u001B[1;34m'r+'\u001B[0m\u001B[1;33m)\u001B[0m \u001B[1;32mand\u001B[0m \u001B[0mself\u001B[0m\u001B[1;33m.\u001B[0m\u001B[0mseekable\u001B[0m\u001B[1;33m(\u001B[0m\u001B[1;33m)\u001B[0m\u001B[1;33m:\u001B[0m\u001B[1;33m\u001B[0m\u001B[1;33m\u001B[0m\u001B[0m\n\u001B[0;32m    657\u001B[0m             \u001B[1;31m# Move write position to 0 (like in Python file objects)\u001B[0m\u001B[1;33m\u001B[0m\u001B[1;33m\u001B[0m\u001B[0m\n",
      "\u001B[1;32m~\\Anaconda3\\lib\\site-packages\\soundfile.py\u001B[0m in \u001B[0;36m_open\u001B[1;34m(self, file, mode_int, closefd)\u001B[0m\n\u001B[0;32m   1211\u001B[0m             \u001B[1;31m# get the actual error code\u001B[0m\u001B[1;33m\u001B[0m\u001B[1;33m\u001B[0m\u001B[0m\n\u001B[0;32m   1212\u001B[0m             \u001B[0merr\u001B[0m \u001B[1;33m=\u001B[0m \u001B[0m_snd\u001B[0m\u001B[1;33m.\u001B[0m\u001B[0msf_error\u001B[0m\u001B[1;33m(\u001B[0m\u001B[0mfile_ptr\u001B[0m\u001B[1;33m)\u001B[0m\u001B[1;33m\u001B[0m\u001B[1;33m\u001B[0m\u001B[0m\n\u001B[1;32m-> 1213\u001B[1;33m             \u001B[1;32mraise\u001B[0m \u001B[0mLibsndfileError\u001B[0m\u001B[1;33m(\u001B[0m\u001B[0merr\u001B[0m\u001B[1;33m,\u001B[0m \u001B[0mprefix\u001B[0m\u001B[1;33m=\u001B[0m\u001B[1;34m\"Error opening {0!r}: \"\u001B[0m\u001B[1;33m.\u001B[0m\u001B[0mformat\u001B[0m\u001B[1;33m(\u001B[0m\u001B[0mself\u001B[0m\u001B[1;33m.\u001B[0m\u001B[0mname\u001B[0m\u001B[1;33m)\u001B[0m\u001B[1;33m)\u001B[0m\u001B[1;33m\u001B[0m\u001B[1;33m\u001B[0m\u001B[0m\n\u001B[0m\u001B[0;32m   1214\u001B[0m         \u001B[1;32mif\u001B[0m \u001B[0mmode_int\u001B[0m \u001B[1;33m==\u001B[0m \u001B[0m_snd\u001B[0m\u001B[1;33m.\u001B[0m\u001B[0mSFM_WRITE\u001B[0m\u001B[1;33m:\u001B[0m\u001B[1;33m\u001B[0m\u001B[1;33m\u001B[0m\u001B[0m\n\u001B[0;32m   1215\u001B[0m             \u001B[1;31m# Due to a bug in libsndfile version <= 1.0.25, frames != 0\u001B[0m\u001B[1;33m\u001B[0m\u001B[1;33m\u001B[0m\u001B[0m\n",
      "\u001B[1;31mLibsndfileError\u001B[0m: Error opening 'data/faults\\\\bad-ball-joint-1.mp3': Format not recognised."
     ]
    }
   ],
   "source": [
    "load_audio(filenames[0])"
   ],
   "metadata": {
    "collapsed": false
   }
  },
  {
   "cell_type": "code",
   "execution_count": 1,
   "outputs": [
    {
     "name": "stderr",
     "output_type": "stream",
     "text": [
      "C:\\Users\\AHUSSEI9\\Anaconda3\\lib\\site-packages\\pydub\\utils.py:170: RuntimeWarning: Couldn't find ffmpeg or avconv - defaulting to ffmpeg, but may not work\n",
      "  warn(\"Couldn't find ffmpeg or avconv - defaulting to ffmpeg, but may not work\", RuntimeWarning)\n",
      "C:\\Users\\AHUSSEI9\\Anaconda3\\lib\\site-packages\\pydub\\utils.py:198: RuntimeWarning: Couldn't find ffprobe or avprobe - defaulting to ffprobe, but may not work\n",
      "  warn(\"Couldn't find ffprobe or avprobe - defaulting to ffprobe, but may not work\", RuntimeWarning)\n"
     ]
    },
    {
     "ename": "FileNotFoundError",
     "evalue": "[WinError 2] The system cannot find the file specified",
     "output_type": "error",
     "traceback": [
      "\u001B[1;31m---------------------------------------------------------------------------\u001B[0m",
      "\u001B[1;31mFileNotFoundError\u001B[0m                         Traceback (most recent call last)",
      "\u001B[1;32m~\\AppData\\Local\\Temp\\ipykernel_1860\\2046649856.py\u001B[0m in \u001B[0;36m<module>\u001B[1;34m\u001B[0m\n\u001B[0;32m      9\u001B[0m \u001B[1;32mfor\u001B[0m \u001B[0mextension\u001B[0m \u001B[1;32min\u001B[0m \u001B[0mfilenames\u001B[0m\u001B[1;33m:\u001B[0m\u001B[1;33m\u001B[0m\u001B[1;33m\u001B[0m\u001B[0m\n\u001B[0;32m     10\u001B[0m         \u001B[0mwav_filename\u001B[0m \u001B[1;33m=\u001B[0m \u001B[0mos\u001B[0m\u001B[1;33m.\u001B[0m\u001B[0mpath\u001B[0m\u001B[1;33m.\u001B[0m\u001B[0msplitext\u001B[0m\u001B[1;33m(\u001B[0m\u001B[0mos\u001B[0m\u001B[1;33m.\u001B[0m\u001B[0mpath\u001B[0m\u001B[1;33m.\u001B[0m\u001B[0mbasename\u001B[0m\u001B[1;33m(\u001B[0m\u001B[0mextension\u001B[0m\u001B[1;33m)\u001B[0m\u001B[1;33m)\u001B[0m\u001B[1;33m[\u001B[0m\u001B[1;36m0\u001B[0m\u001B[1;33m]\u001B[0m \u001B[1;33m+\u001B[0m \u001B[1;34m'.wav'\u001B[0m\u001B[1;33m\u001B[0m\u001B[1;33m\u001B[0m\u001B[0m\n\u001B[1;32m---> 11\u001B[1;33m         \u001B[0mAudioSegment\u001B[0m\u001B[1;33m.\u001B[0m\u001B[0mfrom_file\u001B[0m\u001B[1;33m(\u001B[0m\u001B[0mextension\u001B[0m\u001B[1;33m)\u001B[0m\u001B[1;33m.\u001B[0m\u001B[0mexport\u001B[0m\u001B[1;33m(\u001B[0m\u001B[0mwav_filename\u001B[0m\u001B[1;33m,\u001B[0m \u001B[0mformat\u001B[0m\u001B[1;33m=\u001B[0m\u001B[1;34m'wav'\u001B[0m\u001B[1;33m)\u001B[0m\u001B[1;33m\u001B[0m\u001B[1;33m\u001B[0m\u001B[0m\n\u001B[0m",
      "\u001B[1;32m~\\Anaconda3\\lib\\site-packages\\pydub\\audio_segment.py\u001B[0m in \u001B[0;36mfrom_file\u001B[1;34m(cls, file, format, codec, parameters, start_second, duration, **kwargs)\u001B[0m\n\u001B[0;32m    726\u001B[0m             \u001B[0minfo\u001B[0m \u001B[1;33m=\u001B[0m \u001B[1;32mNone\u001B[0m\u001B[1;33m\u001B[0m\u001B[1;33m\u001B[0m\u001B[0m\n\u001B[0;32m    727\u001B[0m         \u001B[1;32melse\u001B[0m\u001B[1;33m:\u001B[0m\u001B[1;33m\u001B[0m\u001B[1;33m\u001B[0m\u001B[0m\n\u001B[1;32m--> 728\u001B[1;33m             \u001B[0minfo\u001B[0m \u001B[1;33m=\u001B[0m \u001B[0mmediainfo_json\u001B[0m\u001B[1;33m(\u001B[0m\u001B[0morig_file\u001B[0m\u001B[1;33m,\u001B[0m \u001B[0mread_ahead_limit\u001B[0m\u001B[1;33m=\u001B[0m\u001B[0mread_ahead_limit\u001B[0m\u001B[1;33m)\u001B[0m\u001B[1;33m\u001B[0m\u001B[1;33m\u001B[0m\u001B[0m\n\u001B[0m\u001B[0;32m    729\u001B[0m         \u001B[1;32mif\u001B[0m \u001B[0minfo\u001B[0m\u001B[1;33m:\u001B[0m\u001B[1;33m\u001B[0m\u001B[1;33m\u001B[0m\u001B[0m\n\u001B[0;32m    730\u001B[0m             audio_streams = [x for x in info['streams']\n",
      "\u001B[1;32m~\\Anaconda3\\lib\\site-packages\\pydub\\utils.py\u001B[0m in \u001B[0;36mmediainfo_json\u001B[1;34m(filepath, read_ahead_limit)\u001B[0m\n\u001B[0;32m    272\u001B[0m \u001B[1;33m\u001B[0m\u001B[0m\n\u001B[0;32m    273\u001B[0m     \u001B[0mcommand\u001B[0m \u001B[1;33m=\u001B[0m \u001B[1;33m[\u001B[0m\u001B[0mprober\u001B[0m\u001B[1;33m,\u001B[0m \u001B[1;34m'-of'\u001B[0m\u001B[1;33m,\u001B[0m \u001B[1;34m'json'\u001B[0m\u001B[1;33m]\u001B[0m \u001B[1;33m+\u001B[0m \u001B[0mcommand_args\u001B[0m\u001B[1;33m\u001B[0m\u001B[1;33m\u001B[0m\u001B[0m\n\u001B[1;32m--> 274\u001B[1;33m     \u001B[0mres\u001B[0m \u001B[1;33m=\u001B[0m \u001B[0mPopen\u001B[0m\u001B[1;33m(\u001B[0m\u001B[0mcommand\u001B[0m\u001B[1;33m,\u001B[0m \u001B[0mstdin\u001B[0m\u001B[1;33m=\u001B[0m\u001B[0mstdin_parameter\u001B[0m\u001B[1;33m,\u001B[0m \u001B[0mstdout\u001B[0m\u001B[1;33m=\u001B[0m\u001B[0mPIPE\u001B[0m\u001B[1;33m,\u001B[0m \u001B[0mstderr\u001B[0m\u001B[1;33m=\u001B[0m\u001B[0mPIPE\u001B[0m\u001B[1;33m)\u001B[0m\u001B[1;33m\u001B[0m\u001B[1;33m\u001B[0m\u001B[0m\n\u001B[0m\u001B[0;32m    275\u001B[0m     \u001B[0moutput\u001B[0m\u001B[1;33m,\u001B[0m \u001B[0mstderr\u001B[0m \u001B[1;33m=\u001B[0m \u001B[0mres\u001B[0m\u001B[1;33m.\u001B[0m\u001B[0mcommunicate\u001B[0m\u001B[1;33m(\u001B[0m\u001B[0minput\u001B[0m\u001B[1;33m=\u001B[0m\u001B[0mstdin_data\u001B[0m\u001B[1;33m)\u001B[0m\u001B[1;33m\u001B[0m\u001B[1;33m\u001B[0m\u001B[0m\n\u001B[0;32m    276\u001B[0m     \u001B[0moutput\u001B[0m \u001B[1;33m=\u001B[0m \u001B[0moutput\u001B[0m\u001B[1;33m.\u001B[0m\u001B[0mdecode\u001B[0m\u001B[1;33m(\u001B[0m\u001B[1;34m\"utf-8\"\u001B[0m\u001B[1;33m,\u001B[0m \u001B[1;34m'ignore'\u001B[0m\u001B[1;33m)\u001B[0m\u001B[1;33m\u001B[0m\u001B[1;33m\u001B[0m\u001B[0m\n",
      "\u001B[1;32m~\\Anaconda3\\lib\\subprocess.py\u001B[0m in \u001B[0;36m__init__\u001B[1;34m(self, args, bufsize, executable, stdin, stdout, stderr, preexec_fn, close_fds, shell, cwd, env, universal_newlines, startupinfo, creationflags, restore_signals, start_new_session, pass_fds, user, group, extra_groups, encoding, errors, text, umask)\u001B[0m\n\u001B[0;32m    949\u001B[0m                             encoding=encoding, errors=errors)\n\u001B[0;32m    950\u001B[0m \u001B[1;33m\u001B[0m\u001B[0m\n\u001B[1;32m--> 951\u001B[1;33m             self._execute_child(args, executable, preexec_fn, close_fds,\n\u001B[0m\u001B[0;32m    952\u001B[0m                                 \u001B[0mpass_fds\u001B[0m\u001B[1;33m,\u001B[0m \u001B[0mcwd\u001B[0m\u001B[1;33m,\u001B[0m \u001B[0menv\u001B[0m\u001B[1;33m,\u001B[0m\u001B[1;33m\u001B[0m\u001B[1;33m\u001B[0m\u001B[0m\n\u001B[0;32m    953\u001B[0m                                 \u001B[0mstartupinfo\u001B[0m\u001B[1;33m,\u001B[0m \u001B[0mcreationflags\u001B[0m\u001B[1;33m,\u001B[0m \u001B[0mshell\u001B[0m\u001B[1;33m,\u001B[0m\u001B[1;33m\u001B[0m\u001B[1;33m\u001B[0m\u001B[0m\n",
      "\u001B[1;32m~\\Anaconda3\\lib\\subprocess.py\u001B[0m in \u001B[0;36m_execute_child\u001B[1;34m(self, args, executable, preexec_fn, close_fds, pass_fds, cwd, env, startupinfo, creationflags, shell, p2cread, p2cwrite, c2pread, c2pwrite, errread, errwrite, unused_restore_signals, unused_gid, unused_gids, unused_uid, unused_umask, unused_start_new_session)\u001B[0m\n\u001B[0;32m   1418\u001B[0m             \u001B[1;31m# Start the process\u001B[0m\u001B[1;33m\u001B[0m\u001B[1;33m\u001B[0m\u001B[0m\n\u001B[0;32m   1419\u001B[0m             \u001B[1;32mtry\u001B[0m\u001B[1;33m:\u001B[0m\u001B[1;33m\u001B[0m\u001B[1;33m\u001B[0m\u001B[0m\n\u001B[1;32m-> 1420\u001B[1;33m                 hp, ht, pid, tid = _winapi.CreateProcess(executable, args,\n\u001B[0m\u001B[0;32m   1421\u001B[0m                                          \u001B[1;31m# no special security\u001B[0m\u001B[1;33m\u001B[0m\u001B[1;33m\u001B[0m\u001B[0m\n\u001B[0;32m   1422\u001B[0m                                          \u001B[1;32mNone\u001B[0m\u001B[1;33m,\u001B[0m \u001B[1;32mNone\u001B[0m\u001B[1;33m,\u001B[0m\u001B[1;33m\u001B[0m\u001B[1;33m\u001B[0m\u001B[0m\n",
      "\u001B[1;31mFileNotFoundError\u001B[0m: [WinError 2] The system cannot find the file specified"
     ]
    }
   ],
   "source": [
    "from pydub import AudioSegment\n",
    "import os\n",
    "import glob\n",
    "\n",
    "# Create a directory to store the audio files\n",
    "# if not os.path.exists(audio_dir):\n",
    "#     os.makedirs(audio_dir)\n",
    "filenames = glob.glob(\"newdata/*.m4a\")\n",
    "for extension in filenames:\n",
    "        wav_filename = os.path.splitext(os.path.basename(extension))[0] + '.wav'\n",
    "        AudioSegment.from_file(extension).export(wav_filename, format='wav')"
   ],
   "metadata": {
    "collapsed": false
   }
  },
  {
   "cell_type": "code",
   "execution_count": 22,
   "outputs": [
    {
     "data": {
      "text/plain": "[]"
     },
     "execution_count": 22,
     "metadata": {},
     "output_type": "execute_result"
    }
   ],
   "source": [
    "filenames"
   ],
   "metadata": {
    "collapsed": false
   }
  },
  {
   "cell_type": "code",
   "execution_count": null,
   "outputs": [],
   "source": [],
   "metadata": {
    "collapsed": false
   }
  }
 ],
 "metadata": {
  "kernelspec": {
   "display_name": "Python 3 (ipykernel)",
   "language": "python",
   "name": "python3"
  },
  "language_info": {
   "codemirror_mode": {
    "name": "ipython",
    "version": 3
   },
   "file_extension": ".py",
   "mimetype": "text/x-python",
   "name": "python",
   "nbconvert_exporter": "python",
   "pygments_lexer": "ipython3",
   "version": "3.8.15"
  }
 },
 "nbformat": 4,
 "nbformat_minor": 5
}
